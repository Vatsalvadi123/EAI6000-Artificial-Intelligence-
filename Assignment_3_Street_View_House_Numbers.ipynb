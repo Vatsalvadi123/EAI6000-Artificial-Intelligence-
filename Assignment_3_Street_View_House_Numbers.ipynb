{
  "nbformat": 4,
  "nbformat_minor": 0,
  "metadata": {
    "anaconda-cloud": {},
    "kernelspec": {
      "display_name": "Python 3",
      "language": "python",
      "name": "python3"
    },
    "language_info": {
      "codemirror_mode": {
        "name": "ipython",
        "version": 3
      },
      "file_extension": ".py",
      "mimetype": "text/x-python",
      "name": "python",
      "nbconvert_exporter": "python",
      "pygments_lexer": "ipython3",
      "version": "3.7.6"
    },
    "colab": {
      "name": "Assignment_3_Street_View_House_Numbers.ipynb",
      "provenance": [],
      "collapsed_sections": [],
      "toc_visible": true,
      "machine_shape": "hm",
      "include_colab_link": true
    }
  },
  "cells": [
    {
      "cell_type": "markdown",
      "metadata": {
        "id": "view-in-github",
        "colab_type": "text"
      },
      "source": [
        "<a href=\"https://colab.research.google.com/github/Vatsalvadi123/EAI6000-Artificial-Intelligence-/blob/master/Assignment_3_Street_View_House_Numbers.ipynb\" target=\"_parent\"><img src=\"https://colab.research.google.com/assets/colab-badge.svg\" alt=\"Open In Colab\"/></a>"
      ]
    },
    {
      "cell_type": "markdown",
      "metadata": {
        "id": "LGD-Vfytesxf",
        "colab_type": "text"
      },
      "source": [
        "# Street View House Numbers Dataset\n",
        "\n",
        "\n",
        "The [Street View House Numbers Dataset](https://www.openml.org/d/41081) contains 32-by-32 RGB images centered around a single digit of a house number appearing in Google Street View. Many of the images do contain some distractors at the sides. It consists of 10 classes, 1 for each digit. Digit '1' has label 0, '9' has label 8 and '0' has label 9. Your goal is to build a model that recognizes the correct digit."
      ]
    },
    {
      "cell_type": "code",
      "metadata": {
        "id": "8FAlXkmFesxh",
        "colab_type": "code",
        "outputId": "c638036d-ee0b-4418-f818-1c3df6474733",
        "colab": {
          "base_uri": "https://localhost:8080/",
          "height": 547
        }
      },
      "source": [
        "%matplotlib inline\n",
        "!pip install openml # Uncomment to run in Google Colab\n",
        "import openml as oml\n",
        "import numpy as np\n",
        "import matplotlib.pyplot as plt\n",
        "import sklearn\n",
        "import pickle\n",
        "import time"
      ],
      "execution_count": 1,
      "outputs": [
        {
          "output_type": "stream",
          "text": [
            "Collecting openml\n",
            "\u001b[?25l  Downloading https://files.pythonhosted.org/packages/68/5b/cd32bb85651eccebfb489cc6ef7f060ce0f62350a6239127e398313090cc/openml-0.10.2.tar.gz (158kB)\n",
            "\r\u001b[K     |██                              | 10kB 17.4MB/s eta 0:00:01\r\u001b[K     |████▏                           | 20kB 1.7MB/s eta 0:00:01\r\u001b[K     |██████▏                         | 30kB 2.5MB/s eta 0:00:01\r\u001b[K     |████████▎                       | 40kB 1.7MB/s eta 0:00:01\r\u001b[K     |██████████▎                     | 51kB 2.0MB/s eta 0:00:01\r\u001b[K     |████████████▍                   | 61kB 2.4MB/s eta 0:00:01\r\u001b[K     |██████████████▍                 | 71kB 2.8MB/s eta 0:00:01\r\u001b[K     |████████████████▌               | 81kB 3.2MB/s eta 0:00:01\r\u001b[K     |██████████████████▌             | 92kB 3.6MB/s eta 0:00:01\r\u001b[K     |████████████████████▋           | 102kB 2.7MB/s eta 0:00:01\r\u001b[K     |██████████████████████▊         | 112kB 2.7MB/s eta 0:00:01\r\u001b[K     |████████████████████████▊       | 122kB 2.7MB/s eta 0:00:01\r\u001b[K     |██████████████████████████▉     | 133kB 2.7MB/s eta 0:00:01\r\u001b[K     |████████████████████████████▉   | 143kB 2.7MB/s eta 0:00:01\r\u001b[K     |███████████████████████████████ | 153kB 2.7MB/s eta 0:00:01\r\u001b[K     |████████████████████████████████| 163kB 2.7MB/s \n",
            "\u001b[?25hCollecting liac-arff>=2.4.0\n",
            "  Downloading https://files.pythonhosted.org/packages/e9/35/fbc9217cfa91d98888b43e1a19c03a50d716108c58494c558c65e308f372/liac-arff-2.4.0.tar.gz\n",
            "Collecting xmltodict\n",
            "  Downloading https://files.pythonhosted.org/packages/28/fd/30d5c1d3ac29ce229f6bdc40bbc20b28f716e8b363140c26eff19122d8a5/xmltodict-0.12.0-py2.py3-none-any.whl\n",
            "Requirement already satisfied: requests in /usr/local/lib/python3.6/dist-packages (from openml) (2.21.0)\n",
            "Requirement already satisfied: scikit-learn>=0.18 in /usr/local/lib/python3.6/dist-packages (from openml) (0.22.1)\n",
            "Requirement already satisfied: python-dateutil in /usr/local/lib/python3.6/dist-packages (from openml) (2.6.1)\n",
            "Requirement already satisfied: pandas>=0.19.2 in /usr/local/lib/python3.6/dist-packages (from openml) (0.25.3)\n",
            "Requirement already satisfied: scipy>=0.13.3 in /usr/local/lib/python3.6/dist-packages (from openml) (1.4.1)\n",
            "Requirement already satisfied: numpy>=1.6.2 in /usr/local/lib/python3.6/dist-packages (from openml) (1.17.5)\n",
            "Requirement already satisfied: idna<2.9,>=2.5 in /usr/local/lib/python3.6/dist-packages (from requests->openml) (2.8)\n",
            "Requirement already satisfied: chardet<3.1.0,>=3.0.2 in /usr/local/lib/python3.6/dist-packages (from requests->openml) (3.0.4)\n",
            "Requirement already satisfied: certifi>=2017.4.17 in /usr/local/lib/python3.6/dist-packages (from requests->openml) (2019.11.28)\n",
            "Requirement already satisfied: urllib3<1.25,>=1.21.1 in /usr/local/lib/python3.6/dist-packages (from requests->openml) (1.24.3)\n",
            "Requirement already satisfied: joblib>=0.11 in /usr/local/lib/python3.6/dist-packages (from scikit-learn>=0.18->openml) (0.14.1)\n",
            "Requirement already satisfied: six>=1.5 in /usr/local/lib/python3.6/dist-packages (from python-dateutil->openml) (1.12.0)\n",
            "Requirement already satisfied: pytz>=2017.2 in /usr/local/lib/python3.6/dist-packages (from pandas>=0.19.2->openml) (2018.9)\n",
            "Building wheels for collected packages: openml, liac-arff\n",
            "  Building wheel for openml (setup.py) ... \u001b[?25l\u001b[?25hdone\n",
            "  Created wheel for openml: filename=openml-0.10.2-cp36-none-any.whl size=190318 sha256=82f48db4a8d69cac0982c11519cda260a9194ee20a62b969c44f3c2e24694a51\n",
            "  Stored in directory: /root/.cache/pip/wheels/71/ec/5f/aaad9e184680b0b8f1a02ff0ec640cace5adf5bff7bb0af1b4\n",
            "  Building wheel for liac-arff (setup.py) ... \u001b[?25l\u001b[?25hdone\n",
            "  Created wheel for liac-arff: filename=liac_arff-2.4.0-cp36-none-any.whl size=13335 sha256=5d027ab63e58214b97fc8b47587fa67a72c30826ea7461a9d992fe6d525ae176\n",
            "  Stored in directory: /root/.cache/pip/wheels/d1/6a/e7/529dc54d76ecede4346164a09ae3168df358945612710f5203\n",
            "Successfully built openml liac-arff\n",
            "Installing collected packages: liac-arff, xmltodict, openml\n",
            "Successfully installed liac-arff-2.4.0 openml-0.10.2 xmltodict-0.12.0\n"
          ],
          "name": "stdout"
        }
      ]
    },
    {
      "cell_type": "code",
      "metadata": {
        "id": "KBpDMv1Vesxl",
        "colab_type": "code",
        "colab": {}
      },
      "source": [
        "# Download Streetview data. Takes a while to download (5-10 min).\n",
        "SVHN = oml.datasets.get_dataset(41081)\n",
        "X, y, cats, attrs = SVHN.get_data(dataset_format='array',\n",
        "    target=SVHN.default_target_attribute)"
      ],
      "execution_count": 0,
      "outputs": []
    },
    {
      "cell_type": "code",
      "metadata": {
        "id": "lNMKV-mo6uWP",
        "colab_type": "code",
        "outputId": "c23dbb2d-44d4-44b2-db4f-6f9367ec0973",
        "colab": {
          "base_uri": "https://localhost:8080/",
          "height": 122
        }
      },
      "source": [
        "# To save time, you can save the dataset to a Google drive, and load it quickly later\n",
        "from google.colab import drive\n",
        "drive.mount('/content/drive')\n",
        "\n",
        "with open(\"drive/My Drive/SVHN.pkl\", \"wb\") as f:\n",
        "    pickle.dump(X, f, protocol=pickle.HIGHEST_PROTOCOL)\n",
        "    pickle.dump(y, f, protocol=pickle.HIGHEST_PROTOCOL)   \n",
        "    pickle.dump(cats, f, protocol=pickle.HIGHEST_PROTOCOL)\n",
        "    pickle.dump(attrs, f, protocol=pickle.HIGHEST_PROTOCOL)"
      ],
      "execution_count": 3,
      "outputs": [
        {
          "output_type": "stream",
          "text": [
            "Go to this URL in a browser: https://accounts.google.com/o/oauth2/auth?client_id=947318989803-6bn6qk8qdgf4n4g3pfee6491hc0brc4i.apps.googleusercontent.com&redirect_uri=urn%3aietf%3awg%3aoauth%3a2.0%3aoob&response_type=code&scope=email%20https%3a%2f%2fwww.googleapis.com%2fauth%2fdocs.test%20https%3a%2f%2fwww.googleapis.com%2fauth%2fdrive%20https%3a%2f%2fwww.googleapis.com%2fauth%2fdrive.photos.readonly%20https%3a%2f%2fwww.googleapis.com%2fauth%2fpeopleapi.readonly\n",
            "\n",
            "Enter your authorization code:\n",
            "··········\n",
            "Mounted at /content/drive\n"
          ],
          "name": "stdout"
        }
      ]
    },
    {
      "cell_type": "code",
      "metadata": {
        "id": "NNc6MBHe8t4C",
        "colab_type": "code",
        "outputId": "523dbe91-b8f4-40c4-b0de-5987020f5593",
        "colab": {
          "base_uri": "https://localhost:8080/",
          "height": 54
        }
      },
      "source": [
        " #(Uncomment to) Load SVHN dataset from Google drive\n",
        " from google.colab import drive\n",
        " drive.mount('/content/drive')\n",
        "\n",
        " with open(\"drive/My Drive/SVHN.pkl\", \"rb\") as f:\n",
        "     X = pickle.load(f)\n",
        "     y = pickle.load(f)\n",
        "     cats = pickle.load(f)\n",
        "     attrs = pickle.load(f)"
      ],
      "execution_count": 4,
      "outputs": [
        {
          "output_type": "stream",
          "text": [
            "Drive already mounted at /content/drive; to attempt to forcibly remount, call drive.mount(\"/content/drive\", force_remount=True).\n"
          ],
          "name": "stdout"
        }
      ]
    },
    {
      "cell_type": "markdown",
      "metadata": {
        "id": "ZC2877HRDqhV",
        "colab_type": "text"
      },
      "source": [
        "### What is the shape of the image data X? How many images are there? Explain why each image has 3072 values."
      ]
    },
    {
      "cell_type": "markdown",
      "metadata": {
        "id": "R-lyGjJX_3AK",
        "colab_type": "text"
      },
      "source": [
        "3072 is opne of the dimention of the image that means it is 3072 tall. "
      ]
    },
    {
      "cell_type": "code",
      "metadata": {
        "id": "OPTaJNbUC35Y",
        "colab_type": "code",
        "outputId": "720e0811-c6c6-470d-8736-2908e18e3415",
        "colab": {
          "base_uri": "https://localhost:8080/",
          "height": 68
        }
      },
      "source": [
        "print('Shape of X image is',X.shape)\n",
        "print('Size of X images is',X.size)\n",
        "print(X.min(),X.max())\n"
      ],
      "execution_count": 5,
      "outputs": [
        {
          "output_type": "stream",
          "text": [
            "Shape of X image is (99289, 3072)\n",
            "Size of X images is 305015808\n",
            "0.0 255.0\n"
          ],
          "name": "stdout"
        }
      ]
    },
    {
      "cell_type": "markdown",
      "metadata": {
        "id": "CdbVIX_zatiS",
        "colab_type": "text"
      },
      "source": [
        "### You can use the following function to plot the first 10 images to get a sense of the data."
      ]
    },
    {
      "cell_type": "code",
      "metadata": {
        "id": "XzE3X5Etesxo",
        "colab_type": "code",
        "outputId": "3c3de042-d153-4bbe-b2ea-0bbd3d58e5c5",
        "colab": {
          "base_uri": "https://localhost:8080/",
          "height": 94
        }
      },
      "source": [
        "# Plots image. Use grayscale=True for plotting grayscale images\n",
        "def plot_images(X, y, grayscale=False):\n",
        "    fig, axes = plt.subplots(1, len(X),  figsize=(10, 5))\n",
        "    if grayscale :\n",
        "        [ax.imshow(X[n].reshape(32, 32)/255, cmap='gray')\n",
        "         for n,ax in enumerate(axes)]\n",
        "    else:\n",
        "        [ax.imshow(X[n].reshape(32, 32, 3)/255) for n,ax in enumerate(axes)]\n",
        "    [ax.set_title((y[n]+1)) for n,ax in enumerate(axes)]\n",
        "    [ax.axis('off') for ax in axes]\n",
        "plot_images(X[0:10], y[0:10]);"
      ],
      "execution_count": 6,
      "outputs": [
        {
          "output_type": "display_data",
          "data": {
            "image/png": "[encoded data removed]",
            "text/plain": [
              "<Figure size 720x360 with 10 Axes>"
            ]
          },
          "metadata": {
            "tags": []
          }
        }
      ]
    },
    {
      "cell_type": "markdown",
      "metadata": {
        "id": "SEOqfNn0WEWn",
        "colab_type": "text"
      },
      "source": [
        "### Next, we will convert the images to greyscale and normalize the data to fall within the range 0 to 1. Plot the first 10 images to verify that the conversion worked."
      ]
    },
    {
      "cell_type": "code",
      "metadata": {
        "id": "guHl4vlPH3Kw",
        "colab_type": "code",
        "colab": {}
      },
      "source": [
        ""
      ],
      "execution_count": 0,
      "outputs": []
    },
    {
      "cell_type": "code",
      "metadata": {
        "id": "HAg0EOEEKC-C",
        "colab_type": "code",
        "colab": {}
      },
      "source": [
        ""
      ],
      "execution_count": 0,
      "outputs": []
    },
    {
      "cell_type": "code",
      "metadata": {
        "id": "Z0AZiyprYIeW",
        "colab_type": "code",
        "outputId": "12ee308c-17cc-4e5f-a5b6-3a7bf075e1f8",
        "colab": {
          "base_uri": "https://localhost:8080/",
          "height": 94
        }
      },
      "source": [
        "def plot_images(X, y, grayscale=True):\n",
        "    fig, axes = plt.subplots(1, len(X),  figsize=(10, 5))\n",
        "    if grayscale :\n",
        "        [ax.imshow(X[n].reshape(32, 32,3)/255, cmap='gray')\n",
        "         for n,ax in enumerate(axes)]\n",
        "    else:\n",
        "        [ax.imshow(X[n].reshape(32, 32,3)/255) for n,ax in enumerate(axes)]\n",
        "    [ax.set_title((y[n]+1)) for n,ax in enumerate(axes)]\n",
        "    [ax.axis('off') for ax in axes]\n",
        "plot_images(X[0:10], y[0:10]);"
      ],
      "execution_count": 7,
      "outputs": [
        {
          "output_type": "display_data",
          "data": {
            "image/png": "[encoded data removed]",
            "text/plain": [
              "<Figure size 720x360 with 10 Axes>"
            ]
          },
          "metadata": {
            "tags": []
          }
        }
      ]
    },
    {
      "cell_type": "markdown",
      "metadata": {
        "id": "7YYnvhirbCM2",
        "colab_type": "text"
      },
      "source": [
        "### Evaluate different linear models\n",
        "\n",
        "1. To save time, use a stratified 1% subsample of the data. Plot the distribution of the classes (as a histogram) for both the original data and the subsample to verify this was done correctly. (hint: a quick way to do it is to borrow the stratify option with sklearn.model_selection.train_test_split)\n",
        "2. Evaluate k-Nearest Neighbors, Logistic Regression and Linear SVM on this sample, using their default hyperparameter settings. Use cross-validation with 3 folds, output the training accuracy and test accuracy (feel free to reuse code from past assignments). [Time](https://stackoverflow.com/questions/1557571/how-do-i-get-time-of-a-python-programs-execution) how long execution takes.\n",
        "3. Discuss the results. Are they what you expected? Are the models over/underfitting? What should be done to improve the results?\n",
        "4. Now evaluate the same models using 3% of the data. Discuss the results. Is the run time what you expect? Which models perform better or worse than the 1% training? How can you explain this in terms of underfitting/overfitting?"
      ]
    },
    {
      "cell_type": "code",
      "metadata": {
        "id": "qE7B8vgFbu5Y",
        "colab_type": "code",
        "colab": {}
      },
      "source": [
        "\n",
        "from sklearn.model_selection import train_test_split, cross_validate\n",
        "from sklearn.linear_model import LogisticRegression\n",
        "from sklearn.svm import LinearSVC\n",
        "from sklearn.neighbors import KNeighborsClassifier\n",
        "\n",
        "# Take a 0.01% stratified subsample to speed up experimentation\n",
        "Xs, _, ys, _ = train_test_split(X,y, stratify=y, train_size=0.01)"
      ],
      "execution_count": 0,
      "outputs": []
    },
    {
      "cell_type": "code",
      "metadata": {
        "id": "-EswDD73EHOa",
        "colab_type": "code",
        "outputId": "081ae3ec-ba9d-47d7-b5c8-b5479cbe9054",
        "colab": {
          "base_uri": "https://localhost:8080/",
          "height": 295
        }
      },
      "source": [
        "\n",
        "import matplotlib.pyplot as plt \n",
        "  \n",
        "# frequencies \n",
        "ages = Xs \n",
        "bins = 100 \n",
        "  \n",
        "# plotting a histogram \n",
        "plt.hist(ages, histtype = 'bar', rwidth = 1) \n",
        "  \n",
        "# x-axis label \n",
        "plt.xlabel('age') \n",
        "# frequency label \n",
        "plt.ylabel('No. of people') \n",
        "# plot title \n",
        "plt.title('My histogram') \n",
        "  \n",
        "# function to show the plot \n",
        "plt.show() "
      ],
      "execution_count": 9,
      "outputs": [
        {
          "output_type": "display_data",
          "data": {
            "image/png": "[encoded data removed]",
            "text/plain": [
              "<Figure size 432x288 with 1 Axes>"
            ]
          },
          "metadata": {
            "tags": []
          }
        }
      ]
    },
    {
      "cell_type": "code",
      "metadata": {
        "id": "RhbEesNoFmdW",
        "colab_type": "code",
        "outputId": "0a282e49-07aa-4af2-9b30-b98a8a048581",
        "colab": {
          "base_uri": "https://localhost:8080/",
          "height": 295
        }
      },
      "source": [
        "\n",
        "import matplotlib.pyplot as plt \n",
        "  \n",
        "# frequencies \n",
        "ages = X\n",
        "  \n",
        "# setting the ranges and no. of intervals \n",
        "bins = 100  \n",
        "  \n",
        "# plotting a histogram \n",
        "plt.hist(ages, bins, histtype = 'bar', rwidth = 0.8) \n",
        "  \n",
        "# x-axis label \n",
        "plt.xlabel('age') \n",
        "# frequency label \n",
        "plt.ylabel('No. of people') \n",
        "# plot title \n",
        "plt.title('My histogram') \n",
        "  \n",
        "# function to show the plot \n",
        "plt.show() "
      ],
      "execution_count": 10,
      "outputs": [
        {
          "output_type": "display_data",
          "data": {
            "image/png": "[encoded data removed]",
            "text/plain": [
              "<Figure size 432x288 with 1 Axes>"
            ]
          },
          "metadata": {
            "tags": []
          }
        }
      ]
    },
    {
      "cell_type": "code",
      "metadata": {
        "id": "8QHtFI6_I9DR",
        "colab_type": "code",
        "colab": {}
      },
      "source": [
        "from sklearn.model_selection import cross_validate, train_test_split\n",
        "from sklearn.linear_model import LogisticRegression\n",
        "from sklearn.neighbors import KNeighborsClassifier\n",
        "from sklearn.pipeline import make_pipeline\n",
        "from sklearn.svm import LinearSVC\n",
        "\n",
        "\n",
        "def evaluate_learners(models, Xs, ys):\n",
        "    \"\"\" Evaluate each model in 'models' with cross-validation on the provided (X, y) data. \n",
        "    \n",
        "    Given a list of models [model1, model2, ..., modelN] return two lists:\n",
        "     - a list with the scores obtained on the training samples for each model,\n",
        "     - a list with the test scores obtained on the test samples for each model.\n",
        "     The order of scores should match the order in which the models were originally provided. E.g.:     \n",
        "     [Model1 train score, ..., ModelN train score], [Model1 test score, ..., ModelN test score]\n",
        "    \"\"\"\n",
        "    # Evaluate with 5-fold cross-validation.\n",
        "    xvals = [cross_validate(m, Xs, ys, return_train_score= True, n_jobs=-1) for m in models]\n",
        "    test_scores = [x['test_score'] for x in xvals]\n",
        "    train_scores = [x['train_score'] for x in xvals]\n",
        "    return train_scores, test_scores"
      ],
      "execution_count": 0,
      "outputs": []
    },
    {
      "cell_type": "code",
      "metadata": {
        "id": "PAkd1KTlI882",
        "colab_type": "code",
        "colab": {}
      },
      "source": [
        "models = [ LogisticRegression(), LinearSVC(), KNeighborsClassifier()]\n",
        "models = np.array([m for m in models]).flatten()\n",
        "\n",
        "train_scores, test_scores = evaluate_learners(models, Xs, ys)"
      ],
      "execution_count": 0,
      "outputs": []
    },
    {
      "cell_type": "code",
      "metadata": {
        "id": "2oUZRAV4I9Aq",
        "colab_type": "code",
        "outputId": "1dd2e7cd-48aa-4de6-e8e4-30a8828cd71f",
        "colab": {
          "base_uri": "https://localhost:8080/",
          "height": 279
        }
      },
      "source": [
        "classifiers = [LogisticRegression(), LinearSVC(), KNeighborsClassifier()]\n",
        "fig, ax = plt.subplots()\n",
        "width=0.3\n",
        "ax.barh(np.arange(len(train_scores)), np.mean(test_scores, axis=1), width,\n",
        "        yerr= np.std(test_scores, axis=1), color='green', label='test')\n",
        "ax.barh(np.arange(len(train_scores))-width, np.mean(train_scores, axis=1), width,\n",
        "        yerr= np.std(train_scores, axis=1), color='red', label='train')\n",
        "for i, te, tr in zip(np.arange(len(train_scores)),test_scores,train_scores):\n",
        "    ax.text(0, i, \"{:.4f} +- {:.4f}\".format(np.mean(te),np.std(te)), color='white', va='center')\n",
        "    ax.text(0, i-width, \"{:.4f} +- {:.4f}\".format(np.mean(tr),np.std(tr)), color='white', va='center')\n",
        "ax.set(yticks=np.arange(len(train_scores))-width/2, yticklabels=[c.__class__.__name__ for c in classifiers])\n",
        "ax.set_xlabel('Accuracy')\n",
        "ax.legend(bbox_to_anchor=(1.05, 1), loc=2)\n",
        "\n",
        "plt.show()"
      ],
      "execution_count": 14,
      "outputs": [
        {
          "output_type": "display_data",
          "data": {
            "image/png": "[encoded data removed]",
            "text/plain": [
              "<Figure size 432x288 with 1 Axes>"
            ]
          },
          "metadata": {
            "tags": []
          }
        }
      ]
    },
    {
      "cell_type": "code",
      "metadata": {
        "id": "TpWwx5HT1Zsx",
        "colab_type": "code",
        "colab": {
          "base_uri": "https://localhost:8080/",
          "height": 34
        },
        "outputId": "b6a5c350-53a2-4871-ff37-feb97ed91e1e"
      },
      "source": [
        "import time\n",
        "start_time = time.time()\n",
        "evaluate_learners(models, Xs, ys)\n",
        "print(\"--- %s seconds ---\" % (time.time() - start_time))"
      ],
      "execution_count": 17,
      "outputs": [
        {
          "output_type": "stream",
          "text": [
            "--- 121.24588680267334 seconds ---\n"
          ],
          "name": "stdout"
        }
      ]
    },
    {
      "cell_type": "code",
      "metadata": {
        "id": "90c5WdKs0Jo7",
        "colab_type": "code",
        "colab": {}
      },
      "source": [
        "Xss, _, yss, _ = train_test_split(X,y, stratify=y, train_size=0.02)\n"
      ],
      "execution_count": 0,
      "outputs": []
    },
    {
      "cell_type": "code",
      "metadata": {
        "id": "-EMzQFfx20Bu",
        "colab_type": "code",
        "outputId": "ab2800fc-e7ae-43a9-ef0b-a5e53d978dcd",
        "colab": {
          "base_uri": "https://localhost:8080/",
          "height": 71
        }
      },
      "source": [
        "models = [ LogisticRegression(), LinearSVC(), KNeighborsClassifier()]\n",
        "models = np.array([m for m in models]).flatten()\n",
        "\n",
        "train_scores, test_scores = evaluate_learners(models, Xss, yss)"
      ],
      "execution_count": 19,
      "outputs": [
        {
          "output_type": "stream",
          "text": [
            "/usr/local/lib/python3.6/dist-packages/joblib/externals/loky/process_executor.py:706: UserWarning: A worker stopped while some jobs were given to the executor. This can be caused by a too short worker timeout or by a memory leak.\n",
            "  \"timeout or by a memory leak.\", UserWarning\n"
          ],
          "name": "stderr"
        }
      ]
    },
    {
      "cell_type": "code",
      "metadata": {
        "id": "m8e2Mamk0UiO",
        "colab_type": "code",
        "outputId": "99c8fd55-82e6-441c-9e8f-7957835550d7",
        "colab": {
          "base_uri": "https://localhost:8080/",
          "height": 279
        }
      },
      "source": [
        "classifiers = [LogisticRegression(), LinearSVC(), KNeighborsClassifier()]\n",
        "fig, ax = plt.subplots()\n",
        "width=0.3\n",
        "ax.barh(np.arange(len(train_scores)), np.mean(test_scores, axis=1), width,\n",
        "        yerr= np.std(test_scores, axis=1), color='green', label='test')\n",
        "ax.barh(np.arange(len(train_scores))-width, np.mean(train_scores, axis=1), width,\n",
        "        yerr= np.std(train_scores, axis=1), color='red', label='train')\n",
        "for i, te, tr in zip(np.arange(len(train_scores)),test_scores,train_scores):\n",
        "    ax.text(0, i, \"{:.4f} +- {:.4f}\".format(np.mean(te),np.std(te)), color='white', va='center')\n",
        "    ax.text(0, i-width, \"{:.4f} +- {:.4f}\".format(np.mean(tr),np.std(tr)), color='white', va='center')\n",
        "ax.set(yticks=np.arange(len(train_scores))-width/2, yticklabels=[c.__class__.__name__ for c in classifiers])\n",
        "ax.set_xlabel('Accuracy')\n",
        "ax.legend(bbox_to_anchor=(1.05, 1), loc=2)\n",
        "\n",
        "plt.show()"
      ],
      "execution_count": 20,
      "outputs": [
        {
          "output_type": "display_data",
          "data": {
            "image/png": "[encoded data removed]",
            "text/plain": [
              "<Figure size 432x288 with 1 Axes>"
            ]
          },
          "metadata": {
            "tags": []
          }
        }
      ]
    },
    {
      "cell_type": "code",
      "metadata": {
        "id": "lIMNl1GA2z68",
        "colab_type": "code",
        "colab": {
          "base_uri": "https://localhost:8080/",
          "height": 34
        },
        "outputId": "7a31b7f1-9395-448f-d601-8f7356fee409"
      },
      "source": [
        "import time\n",
        "start_time = time.time()\n",
        "evaluate_learners(models, Xss, yss)\n",
        "print(\"--- %s seconds ---\" % (time.time() - start_time))"
      ],
      "execution_count": 21,
      "outputs": [
        {
          "output_type": "stream",
          "text": [
            "--- 302.78501200675964 seconds ---\n"
          ],
          "name": "stdout"
        }
      ]
    },
    {
      "cell_type": "markdown",
      "metadata": {
        "id": "KXQh7T4VuHCP",
        "colab_type": "text"
      },
      "source": [
        "### Evaluate feed-forward neural network\n",
        "\n",
        "Counter-intuitively, even though the linear models above are slow, you can easily train the small neural network below with 100% of the data in very little time. Learn more about Google Colab if you're curious: https://research.google.com/colaboratory/faq.html \n",
        "1. Train a neural network on the full (100%) data. Start with a single hidden layer with 256 neurons, and the same output layer as this week's Fashion-MNIST lab. Evaluate the accuracy using an 80/20 train test split. How does it compare with the linear models?\n",
        "2. Plot the confusion matrix. Which digits are often confused with each other? \n",
        "3. Plot the first 15 correctly classified examples and the first 15 incorrectly classified examples, along with a bar plot of the predictions array. You can use the provided plotting functions. What sort of errors do you see? Are these indeed 'hard' examples that are easy to get wrong?\n"
      ]
    },
    {
      "cell_type": "code",
      "metadata": {
        "id": "-TEfNIt89g-k",
        "colab_type": "code",
        "colab": {
          "base_uri": "https://localhost:8080/",
          "height": 34
        },
        "outputId": "b928c191-3d22-4cfd-cf0e-6561847d48f0"
      },
      "source": [
        "try:\n",
        "  # %tensorflow_version only exists in Colab.\n",
        "  %tensorflow_version 2.x\n",
        "except Exception:\n",
        "  pass\n"
      ],
      "execution_count": 22,
      "outputs": [
        {
          "output_type": "stream",
          "text": [
            "TensorFlow 2.x selected.\n"
          ],
          "name": "stdout"
        }
      ]
    },
    {
      "cell_type": "code",
      "metadata": {
        "id": "3inuiDIM9Tix",
        "colab_type": "code",
        "outputId": "810a1718-a63f-4a2c-e1dd-324e84cb9cfe",
        "colab": {
          "base_uri": "https://localhost:8080/",
          "height": 34
        }
      },
      "source": [
        "from __future__ import absolute_import, division, print_function, unicode_literals\n",
        "\n",
        "# TensorFlow and tf.keras\n",
        "import tensorflow as tf\n",
        "from tensorflow import keras\n",
        "\n",
        "# Helper libraries\n",
        "import numpy as np\n",
        "import matplotlib.pyplot as plt\n",
        "\n",
        "print(tf.__version__)"
      ],
      "execution_count": 23,
      "outputs": [
        {
          "output_type": "stream",
          "text": [
            "2.1.0\n"
          ],
          "name": "stdout"
        }
      ]
    },
    {
      "cell_type": "code",
      "metadata": {
        "id": "8DzK6X9M7ND0",
        "colab_type": "code",
        "colab": {
          "base_uri": "https://localhost:8080/",
          "height": 34
        },
        "outputId": "a61b5801-e638-4765-b523-aa0b8003aabf"
      },
      "source": [
        "from keras.models import Sequential\n",
        "from keras.layers import Convolution2D\n",
        "from keras.layers import MaxPooling2D\n",
        "from keras.layers import Flatten\n",
        "from keras.layers import Dense"
      ],
      "execution_count": 24,
      "outputs": [
        {
          "output_type": "stream",
          "text": [
            "Using TensorFlow backend.\n"
          ],
          "name": "stderr"
        }
      ]
    },
    {
      "cell_type": "code",
      "metadata": {
        "id": "YKfh7iJSDCf3",
        "colab_type": "code",
        "colab": {}
      },
      "source": [
        "X_train, X_test, y_train, y_test = train_test_split(X, y, test_size=0.2)"
      ],
      "execution_count": 0,
      "outputs": []
    },
    {
      "cell_type": "code",
      "metadata": {
        "id": "wYNPYCU_T8HQ",
        "colab_type": "code",
        "colab": {}
      },
      "source": [
        "model = keras.Sequential([\n",
        "    #keras.layers.Flatten(input_shape=(32, 32)),\n",
        "    keras.layers.Dense(256, activation='relu'),\n",
        "     keras.layers.Dense(10)\n",
        "])"
      ],
      "execution_count": 0,
      "outputs": []
    },
    {
      "cell_type": "code",
      "metadata": {
        "id": "ARfcb4zlP3uu",
        "colab_type": "code",
        "colab": {}
      },
      "source": [
        ""
      ],
      "execution_count": 0,
      "outputs": []
    },
    {
      "cell_type": "code",
      "metadata": {
        "id": "fz4NNqa1M8xu",
        "colab_type": "code",
        "colab": {}
      },
      "source": [
        "model.compile(optimizer='adam',\n",
        "              loss=tf.keras.losses.SparseCategoricalCrossentropy(from_logits=True),\n",
        "              metrics=['accuracy'])"
      ],
      "execution_count": 0,
      "outputs": []
    },
    {
      "cell_type": "code",
      "metadata": {
        "id": "59pudn-VOSEK",
        "colab_type": "code",
        "outputId": "f34e3886-dd28-4d89-9c98-cb53fc2c8a99",
        "colab": {
          "base_uri": "https://localhost:8080/",
          "height": 68
        }
      },
      "source": [
        "model.fit(X_train, y_train)"
      ],
      "execution_count": 54,
      "outputs": [
        {
          "output_type": "stream",
          "text": [
            "Train on 79431 samples\n",
            "79431/79431 [==============================] - 10s 131us/sample - loss: 2.2335 - accuracy: 0.1914\n"
          ],
          "name": "stdout"
        },
        {
          "output_type": "execute_result",
          "data": {
            "text/plain": [
              "<tensorflow.python.keras.callbacks.History at 0x7fee1527d860>"
            ]
          },
          "metadata": {
            "tags": []
          },
          "execution_count": 54
        }
      ]
    },
    {
      "cell_type": "code",
      "metadata": {
        "id": "YfHNtptfTAXp",
        "colab_type": "code",
        "outputId": "5bb8ea7e-3f62-4126-acf8-e4fe98458a2d",
        "colab": {
          "base_uri": "https://localhost:8080/",
          "height": 68
        }
      },
      "source": [
        "test_loss, test_acc = model.evaluate(X_train,  y_train, verbose=2)\n",
        "\n",
        "print('\\nTest accuracy:', test_acc)"
      ],
      "execution_count": 55,
      "outputs": [
        {
          "output_type": "stream",
          "text": [
            "79431/79431 - 4s - loss: 2.2334 - accuracy: 0.1914\n",
            "\n",
            "Test accuracy: 0.191424\n"
          ],
          "name": "stdout"
        }
      ]
    },
    {
      "cell_type": "code",
      "metadata": {
        "id": "7qNERHbP5LfC",
        "colab_type": "code",
        "colab": {
          "base_uri": "https://localhost:8080/",
          "height": 68
        },
        "outputId": "5b067794-e0dc-4755-93ff-ad1ad57e5dde"
      },
      "source": [
        "test_loss, test_acc = model.evaluate(X_test,  y_test, verbose=2)\n",
        "\n",
        "print('\\nTest accuracy:', test_acc)"
      ],
      "execution_count": 56,
      "outputs": [
        {
          "output_type": "stream",
          "text": [
            "19858/19858 - 1s - loss: 2.2324 - accuracy: 0.1891\n",
            "\n",
            "Test accuracy: 0.18909256\n"
          ],
          "name": "stdout"
        }
      ]
    },
    {
      "cell_type": "code",
      "metadata": {
        "id": "7bxSFrNHTAfb",
        "colab_type": "code",
        "colab": {}
      },
      "source": [
        "probability_model = tf.keras.Sequential([model, \n",
        "                                         tf.keras.layers.Softmax()])\n",
        "class_predictions = model.predict_classes(X_train)\n",
        "prediction_probabilities = probability_model.predict(X_train)"
      ],
      "execution_count": 0,
      "outputs": []
    },
    {
      "cell_type": "code",
      "metadata": {
        "id": "0P1DhTkiTAn9",
        "colab_type": "code",
        "colab": {}
      },
      "source": [
        "predictions = probability_model.predict(X_test)"
      ],
      "execution_count": 0,
      "outputs": []
    },
    {
      "cell_type": "code",
      "metadata": {
        "id": "qAqj4k1njcUU",
        "colab_type": "code",
        "colab": {}
      },
      "source": [
        "from sklearn.metrics import confusion_matrix\n",
        "import itertools\n",
        "def plot_image(i, predictions_array, true_label, img):\n",
        "  predictions_array, true_label, img = predictions_array, true_label[i], img[i]\n",
        "  plt.grid(False)\n",
        "  plt.xticks([])\n",
        "  plt.yticks([])\n",
        "\n",
        "  plt.imshow(img, cmap=plt.cm.binary)\n",
        "\n",
        "  predicted_label = np.argmax(predictions_array)\n",
        "  if predicted_label == true_label:\n",
        "    color = 'blue'\n",
        "  else:\n",
        "    color = 'red'\n",
        "\n",
        "  plt.xlabel(\"{} {:2.0f}% ({})\".format(predicted_label+1,\n",
        "                                100*np.max(predictions_array),\n",
        "                                true_label+1),\n",
        "                                color=color)\n",
        "\n",
        "def plot_value_array(i, predictions_array, true_label):\n",
        "  predictions_array, true_label = predictions_array, true_label[i]\n",
        "  plt.grid(False)\n",
        "  plt.xticks([1,2,3,4,5,6,7,8,9,0],rotation=90)\n",
        "  plt.yticks([])\n",
        "  thisplot = plt.bar([1,2,3,4,5,6,7,8,9,0], predictions_array, color=\"#777777\")\n",
        "  plt.ylim([0, 1])\n",
        "  predicted_label = np.argmax(predictions_array)\n",
        "  thisplot[predicted_label].set_color('red')\n",
        "  thisplot[true_label].set_color('blue')"
      ],
      "execution_count": 0,
      "outputs": []
    },
    {
      "cell_type": "code",
      "metadata": {
        "id": "RhKTbY3fTAvX",
        "colab_type": "code",
        "colab": {}
      },
      "source": [
        "class_names = ['0', '1', '2', '3', '4', '5', '6', '7','8', '9']"
      ],
      "execution_count": 0,
      "outputs": []
    },
    {
      "cell_type": "code",
      "metadata": {
        "id": "3b0TKY6R7mlM",
        "colab_type": "code",
        "colab": {
          "base_uri": "https://localhost:8080/",
          "height": 34
        },
        "outputId": "dbb121ea-a4e5-486f-f9d9-b48bfddf2223"
      },
      "source": [
        "X_test.shape"
      ],
      "execution_count": 61,
      "outputs": [
        {
          "output_type": "execute_result",
          "data": {
            "text/plain": [
              "(19858, 3072)"
            ]
          },
          "metadata": {
            "tags": []
          },
          "execution_count": 61
        }
      ]
    },
    {
      "cell_type": "code",
      "metadata": {
        "id": "vLAdRPhn7qlP",
        "colab_type": "code",
        "colab": {
          "base_uri": "https://localhost:8080/",
          "height": 34
        },
        "outputId": "33e8dc74-2099-4d99-e4ad-2ff286b8c227"
      },
      "source": [
        "class_predictions.shape"
      ],
      "execution_count": 62,
      "outputs": [
        {
          "output_type": "execute_result",
          "data": {
            "text/plain": [
              "(79431,)"
            ]
          },
          "metadata": {
            "tags": []
          },
          "execution_count": 62
        }
      ]
    },
    {
      "cell_type": "code",
      "metadata": {
        "id": "RjmWVp-M8Iew",
        "colab_type": "code",
        "colab": {
          "base_uri": "https://localhost:8080/",
          "height": 34
        },
        "outputId": "c169a00f-d125-4080-950d-5838cc097fb9"
      },
      "source": [
        "prediction_probabilities.shape"
      ],
      "execution_count": 63,
      "outputs": [
        {
          "output_type": "execute_result",
          "data": {
            "text/plain": [
              "(79431, 10)"
            ]
          },
          "metadata": {
            "tags": []
          },
          "execution_count": 63
        }
      ]
    },
    {
      "cell_type": "code",
      "metadata": {
        "id": "Y8_m-2XaSo0F",
        "colab_type": "code",
        "outputId": "afdeaad6-5975-4071-8495-9db0efa95ee0",
        "colab": {
          "base_uri": "https://localhost:8080/",
          "height": 471
        }
      },
      "source": [
        "count = 0\n",
        "for i in range(len(y_test)):\n",
        "  if np.argmax(prediction_probabilities[i]) != y_test[i]:\n",
        "    count += 1\n",
        "    if count <= 25:\n",
        "      num_rows = 5\n",
        "      num_cols = 5\n",
        "      num_images = num_rows*num_cols\n",
        "      plt.figure(figsize=(2*2*num_cols, 2*num_rows))\n",
        "      plt.subplot(num_rows, 2*num_cols+2, 2*count+1)\n",
        "      plot_image(i, prediction_probabilities[i], y_test, X_test)\n",
        "      plt.subplot(num_rows, 2*num_cols+2, 2*count+2)\n",
        "      plot_value_array(i, prediction_probabilities[i], y_test)\n",
        "      plt.tight_layout()\n",
        "      plt.show()"
      ],
      "execution_count": 67,
      "outputs": [
        {
          "output_type": "error",
          "ename": "TypeError",
          "evalue": "ignored",
          "traceback": [
            "\u001b[0;31m---------------------------------------------------------------------------\u001b[0m",
            "\u001b[0;31mTypeError\u001b[0m                                 Traceback (most recent call last)",
            "\u001b[0;32m<ipython-input-67-f56a6954e0ba>\u001b[0m in \u001b[0;36m<module>\u001b[0;34m()\u001b[0m\n\u001b[1;32m      9\u001b[0m       \u001b[0mplt\u001b[0m\u001b[0;34m.\u001b[0m\u001b[0mfigure\u001b[0m\u001b[0;34m(\u001b[0m\u001b[0mfigsize\u001b[0m\u001b[0;34m=\u001b[0m\u001b[0;34m(\u001b[0m\u001b[0;36m2\u001b[0m\u001b[0;34m*\u001b[0m\u001b[0;36m2\u001b[0m\u001b[0;34m*\u001b[0m\u001b[0mnum_cols\u001b[0m\u001b[0;34m,\u001b[0m \u001b[0;36m2\u001b[0m\u001b[0;34m*\u001b[0m\u001b[0mnum_rows\u001b[0m\u001b[0;34m)\u001b[0m\u001b[0;34m)\u001b[0m\u001b[0;34m\u001b[0m\u001b[0;34m\u001b[0m\u001b[0m\n\u001b[1;32m     10\u001b[0m       \u001b[0mplt\u001b[0m\u001b[0;34m.\u001b[0m\u001b[0msubplot\u001b[0m\u001b[0;34m(\u001b[0m\u001b[0mnum_rows\u001b[0m\u001b[0;34m,\u001b[0m \u001b[0;36m2\u001b[0m\u001b[0;34m*\u001b[0m\u001b[0mnum_cols\u001b[0m\u001b[0;34m+\u001b[0m\u001b[0;36m2\u001b[0m\u001b[0;34m,\u001b[0m \u001b[0;36m2\u001b[0m\u001b[0;34m*\u001b[0m\u001b[0mcount\u001b[0m\u001b[0;34m+\u001b[0m\u001b[0;36m1\u001b[0m\u001b[0;34m)\u001b[0m\u001b[0;34m\u001b[0m\u001b[0;34m\u001b[0m\u001b[0m\n\u001b[0;32m---> 11\u001b[0;31m       \u001b[0mplot_image\u001b[0m\u001b[0;34m(\u001b[0m\u001b[0mi\u001b[0m\u001b[0;34m,\u001b[0m \u001b[0mprediction_probabilities\u001b[0m\u001b[0;34m[\u001b[0m\u001b[0mi\u001b[0m\u001b[0;34m]\u001b[0m\u001b[0;34m,\u001b[0m \u001b[0my_test\u001b[0m\u001b[0;34m,\u001b[0m \u001b[0mX_test\u001b[0m\u001b[0;34m)\u001b[0m\u001b[0;34m\u001b[0m\u001b[0;34m\u001b[0m\u001b[0m\n\u001b[0m\u001b[1;32m     12\u001b[0m       \u001b[0mplt\u001b[0m\u001b[0;34m.\u001b[0m\u001b[0msubplot\u001b[0m\u001b[0;34m(\u001b[0m\u001b[0mnum_rows\u001b[0m\u001b[0;34m,\u001b[0m \u001b[0;36m2\u001b[0m\u001b[0;34m*\u001b[0m\u001b[0mnum_cols\u001b[0m\u001b[0;34m+\u001b[0m\u001b[0;36m2\u001b[0m\u001b[0;34m,\u001b[0m \u001b[0;36m2\u001b[0m\u001b[0;34m*\u001b[0m\u001b[0mcount\u001b[0m\u001b[0;34m+\u001b[0m\u001b[0;36m2\u001b[0m\u001b[0;34m)\u001b[0m\u001b[0;34m\u001b[0m\u001b[0;34m\u001b[0m\u001b[0m\n\u001b[1;32m     13\u001b[0m       \u001b[0mplot_value_array\u001b[0m\u001b[0;34m(\u001b[0m\u001b[0mi\u001b[0m\u001b[0;34m,\u001b[0m \u001b[0mprediction_probabilities\u001b[0m\u001b[0;34m[\u001b[0m\u001b[0mi\u001b[0m\u001b[0;34m]\u001b[0m\u001b[0;34m,\u001b[0m \u001b[0my_test\u001b[0m\u001b[0;34m)\u001b[0m\u001b[0;34m\u001b[0m\u001b[0;34m\u001b[0m\u001b[0m\n",
            "\u001b[0;32m<ipython-input-59-44c0f5202513>\u001b[0m in \u001b[0;36mplot_image\u001b[0;34m(i, predictions_array, true_label, img)\u001b[0m\n\u001b[1;32m      7\u001b[0m   \u001b[0mplt\u001b[0m\u001b[0;34m.\u001b[0m\u001b[0myticks\u001b[0m\u001b[0;34m(\u001b[0m\u001b[0;34m[\u001b[0m\u001b[0;34m]\u001b[0m\u001b[0;34m)\u001b[0m\u001b[0;34m\u001b[0m\u001b[0;34m\u001b[0m\u001b[0m\n\u001b[1;32m      8\u001b[0m \u001b[0;34m\u001b[0m\u001b[0m\n\u001b[0;32m----> 9\u001b[0;31m   \u001b[0mplt\u001b[0m\u001b[0;34m.\u001b[0m\u001b[0mimshow\u001b[0m\u001b[0;34m(\u001b[0m\u001b[0mimg\u001b[0m\u001b[0;34m,\u001b[0m \u001b[0mcmap\u001b[0m\u001b[0;34m=\u001b[0m\u001b[0mplt\u001b[0m\u001b[0;34m.\u001b[0m\u001b[0mcm\u001b[0m\u001b[0;34m.\u001b[0m\u001b[0mbinary\u001b[0m\u001b[0;34m)\u001b[0m\u001b[0;34m\u001b[0m\u001b[0;34m\u001b[0m\u001b[0m\n\u001b[0m\u001b[1;32m     10\u001b[0m \u001b[0;34m\u001b[0m\u001b[0m\n\u001b[1;32m     11\u001b[0m   \u001b[0mpredicted_label\u001b[0m \u001b[0;34m=\u001b[0m \u001b[0mnp\u001b[0m\u001b[0;34m.\u001b[0m\u001b[0margmax\u001b[0m\u001b[0;34m(\u001b[0m\u001b[0mpredictions_array\u001b[0m\u001b[0;34m)\u001b[0m\u001b[0;34m\u001b[0m\u001b[0;34m\u001b[0m\u001b[0m\n",
            "\u001b[0;32m/usr/local/lib/python3.6/dist-packages/matplotlib/pyplot.py\u001b[0m in \u001b[0;36mimshow\u001b[0;34m(X, cmap, norm, aspect, interpolation, alpha, vmin, vmax, origin, extent, shape, filternorm, filterrad, imlim, resample, url, data, **kwargs)\u001b[0m\n\u001b[1;32m   2682\u001b[0m         \u001b[0mfilternorm\u001b[0m\u001b[0;34m=\u001b[0m\u001b[0mfilternorm\u001b[0m\u001b[0;34m,\u001b[0m \u001b[0mfilterrad\u001b[0m\u001b[0;34m=\u001b[0m\u001b[0mfilterrad\u001b[0m\u001b[0;34m,\u001b[0m \u001b[0mimlim\u001b[0m\u001b[0;34m=\u001b[0m\u001b[0mimlim\u001b[0m\u001b[0;34m,\u001b[0m\u001b[0;34m\u001b[0m\u001b[0;34m\u001b[0m\u001b[0m\n\u001b[1;32m   2683\u001b[0m         resample=resample, url=url, **({\"data\": data} if data is not\n\u001b[0;32m-> 2684\u001b[0;31m         None else {}), **kwargs)\n\u001b[0m\u001b[1;32m   2685\u001b[0m     \u001b[0msci\u001b[0m\u001b[0;34m(\u001b[0m\u001b[0m__ret\u001b[0m\u001b[0;34m)\u001b[0m\u001b[0;34m\u001b[0m\u001b[0;34m\u001b[0m\u001b[0m\n\u001b[1;32m   2686\u001b[0m     \u001b[0;32mreturn\u001b[0m \u001b[0m__ret\u001b[0m\u001b[0;34m\u001b[0m\u001b[0;34m\u001b[0m\u001b[0m\n",
            "\u001b[0;32m/usr/local/lib/python3.6/dist-packages/matplotlib/__init__.py\u001b[0m in \u001b[0;36minner\u001b[0;34m(ax, data, *args, **kwargs)\u001b[0m\n\u001b[1;32m   1597\u001b[0m     \u001b[0;32mdef\u001b[0m \u001b[0minner\u001b[0m\u001b[0;34m(\u001b[0m\u001b[0max\u001b[0m\u001b[0;34m,\u001b[0m \u001b[0;34m*\u001b[0m\u001b[0margs\u001b[0m\u001b[0;34m,\u001b[0m \u001b[0mdata\u001b[0m\u001b[0;34m=\u001b[0m\u001b[0;32mNone\u001b[0m\u001b[0;34m,\u001b[0m \u001b[0;34m**\u001b[0m\u001b[0mkwargs\u001b[0m\u001b[0;34m)\u001b[0m\u001b[0;34m:\u001b[0m\u001b[0;34m\u001b[0m\u001b[0;34m\u001b[0m\u001b[0m\n\u001b[1;32m   1598\u001b[0m         \u001b[0;32mif\u001b[0m \u001b[0mdata\u001b[0m \u001b[0;32mis\u001b[0m \u001b[0;32mNone\u001b[0m\u001b[0;34m:\u001b[0m\u001b[0;34m\u001b[0m\u001b[0;34m\u001b[0m\u001b[0m\n\u001b[0;32m-> 1599\u001b[0;31m             \u001b[0;32mreturn\u001b[0m \u001b[0mfunc\u001b[0m\u001b[0;34m(\u001b[0m\u001b[0max\u001b[0m\u001b[0;34m,\u001b[0m \u001b[0;34m*\u001b[0m\u001b[0mmap\u001b[0m\u001b[0;34m(\u001b[0m\u001b[0msanitize_sequence\u001b[0m\u001b[0;34m,\u001b[0m \u001b[0margs\u001b[0m\u001b[0;34m)\u001b[0m\u001b[0;34m,\u001b[0m \u001b[0;34m**\u001b[0m\u001b[0mkwargs\u001b[0m\u001b[0;34m)\u001b[0m\u001b[0;34m\u001b[0m\u001b[0;34m\u001b[0m\u001b[0m\n\u001b[0m\u001b[1;32m   1600\u001b[0m \u001b[0;34m\u001b[0m\u001b[0m\n\u001b[1;32m   1601\u001b[0m         \u001b[0mbound\u001b[0m \u001b[0;34m=\u001b[0m \u001b[0mnew_sig\u001b[0m\u001b[0;34m.\u001b[0m\u001b[0mbind\u001b[0m\u001b[0;34m(\u001b[0m\u001b[0max\u001b[0m\u001b[0;34m,\u001b[0m \u001b[0;34m*\u001b[0m\u001b[0margs\u001b[0m\u001b[0;34m,\u001b[0m \u001b[0;34m**\u001b[0m\u001b[0mkwargs\u001b[0m\u001b[0;34m)\u001b[0m\u001b[0;34m\u001b[0m\u001b[0;34m\u001b[0m\u001b[0m\n",
            "\u001b[0;32m/usr/local/lib/python3.6/dist-packages/matplotlib/cbook/deprecation.py\u001b[0m in \u001b[0;36mwrapper\u001b[0;34m(*args, **kwargs)\u001b[0m\n\u001b[1;32m    367\u001b[0m                 \u001b[0;34mf\"%(removal)s.  If any parameter follows {name!r}, they \"\u001b[0m\u001b[0;34m\u001b[0m\u001b[0;34m\u001b[0m\u001b[0m\n\u001b[1;32m    368\u001b[0m                 f\"should be pass as keyword, not positionally.\")\n\u001b[0;32m--> 369\u001b[0;31m         \u001b[0;32mreturn\u001b[0m \u001b[0mfunc\u001b[0m\u001b[0;34m(\u001b[0m\u001b[0;34m*\u001b[0m\u001b[0margs\u001b[0m\u001b[0;34m,\u001b[0m \u001b[0;34m**\u001b[0m\u001b[0mkwargs\u001b[0m\u001b[0;34m)\u001b[0m\u001b[0;34m\u001b[0m\u001b[0;34m\u001b[0m\u001b[0m\n\u001b[0m\u001b[1;32m    370\u001b[0m \u001b[0;34m\u001b[0m\u001b[0m\n\u001b[1;32m    371\u001b[0m     \u001b[0;32mreturn\u001b[0m \u001b[0mwrapper\u001b[0m\u001b[0;34m\u001b[0m\u001b[0;34m\u001b[0m\u001b[0m\n",
            "\u001b[0;32m/usr/local/lib/python3.6/dist-packages/matplotlib/cbook/deprecation.py\u001b[0m in \u001b[0;36mwrapper\u001b[0;34m(*args, **kwargs)\u001b[0m\n\u001b[1;32m    367\u001b[0m                 \u001b[0;34mf\"%(removal)s.  If any parameter follows {name!r}, they \"\u001b[0m\u001b[0;34m\u001b[0m\u001b[0;34m\u001b[0m\u001b[0m\n\u001b[1;32m    368\u001b[0m                 f\"should be pass as keyword, not positionally.\")\n\u001b[0;32m--> 369\u001b[0;31m         \u001b[0;32mreturn\u001b[0m \u001b[0mfunc\u001b[0m\u001b[0;34m(\u001b[0m\u001b[0;34m*\u001b[0m\u001b[0margs\u001b[0m\u001b[0;34m,\u001b[0m \u001b[0;34m**\u001b[0m\u001b[0mkwargs\u001b[0m\u001b[0;34m)\u001b[0m\u001b[0;34m\u001b[0m\u001b[0;34m\u001b[0m\u001b[0m\n\u001b[0m\u001b[1;32m    370\u001b[0m \u001b[0;34m\u001b[0m\u001b[0m\n\u001b[1;32m    371\u001b[0m     \u001b[0;32mreturn\u001b[0m \u001b[0mwrapper\u001b[0m\u001b[0;34m\u001b[0m\u001b[0;34m\u001b[0m\u001b[0m\n",
            "\u001b[0;32m/usr/local/lib/python3.6/dist-packages/matplotlib/axes/_axes.py\u001b[0m in \u001b[0;36mimshow\u001b[0;34m(self, X, cmap, norm, aspect, interpolation, alpha, vmin, vmax, origin, extent, shape, filternorm, filterrad, imlim, resample, url, **kwargs)\u001b[0m\n\u001b[1;32m   5677\u001b[0m                               resample=resample, **kwargs)\n\u001b[1;32m   5678\u001b[0m \u001b[0;34m\u001b[0m\u001b[0m\n\u001b[0;32m-> 5679\u001b[0;31m         \u001b[0mim\u001b[0m\u001b[0;34m.\u001b[0m\u001b[0mset_data\u001b[0m\u001b[0;34m(\u001b[0m\u001b[0mX\u001b[0m\u001b[0;34m)\u001b[0m\u001b[0;34m\u001b[0m\u001b[0;34m\u001b[0m\u001b[0m\n\u001b[0m\u001b[1;32m   5680\u001b[0m         \u001b[0mim\u001b[0m\u001b[0;34m.\u001b[0m\u001b[0mset_alpha\u001b[0m\u001b[0;34m(\u001b[0m\u001b[0malpha\u001b[0m\u001b[0;34m)\u001b[0m\u001b[0;34m\u001b[0m\u001b[0;34m\u001b[0m\u001b[0m\n\u001b[1;32m   5681\u001b[0m         \u001b[0;32mif\u001b[0m \u001b[0mim\u001b[0m\u001b[0;34m.\u001b[0m\u001b[0mget_clip_path\u001b[0m\u001b[0;34m(\u001b[0m\u001b[0;34m)\u001b[0m \u001b[0;32mis\u001b[0m \u001b[0;32mNone\u001b[0m\u001b[0;34m:\u001b[0m\u001b[0;34m\u001b[0m\u001b[0;34m\u001b[0m\u001b[0m\n",
            "\u001b[0;32m/usr/local/lib/python3.6/dist-packages/matplotlib/image.py\u001b[0m in \u001b[0;36mset_data\u001b[0;34m(self, A)\u001b[0m\n\u001b[1;32m    688\u001b[0m                 or self._A.ndim == 3 and self._A.shape[-1] in [3, 4]):\n\u001b[1;32m    689\u001b[0m             raise TypeError(\"Invalid shape {} for image data\"\n\u001b[0;32m--> 690\u001b[0;31m                             .format(self._A.shape))\n\u001b[0m\u001b[1;32m    691\u001b[0m \u001b[0;34m\u001b[0m\u001b[0m\n\u001b[1;32m    692\u001b[0m         \u001b[0;32mif\u001b[0m \u001b[0mself\u001b[0m\u001b[0;34m.\u001b[0m\u001b[0m_A\u001b[0m\u001b[0;34m.\u001b[0m\u001b[0mndim\u001b[0m \u001b[0;34m==\u001b[0m \u001b[0;36m3\u001b[0m\u001b[0;34m:\u001b[0m\u001b[0;34m\u001b[0m\u001b[0;34m\u001b[0m\u001b[0m\n",
            "\u001b[0;31mTypeError\u001b[0m: Invalid shape (3072,) for image data"
          ]
        },
        {
          "output_type": "display_data",
          "data": {
            "image/png": "[encoded data removed]",
            "text/plain": [
              "<Figure size 1440x720 with 1 Axes>"
            ]
          },
          "metadata": {
            "tags": []
          }
        }
      ]
    },
    {
      "cell_type": "code",
      "metadata": {
        "id": "dvY6zmUB7-I0",
        "colab_type": "code",
        "colab": {}
      },
      "source": [
        "from sklearn.metrics import confusion_matrix\n",
        "cm = confusion_matrix(test_labels,class_predictions)\n",
        "fig, ax = plt.subplots()\n",
        "im = ax.imshow(cm)\n",
        "ax.set_xticks(np.arange(10)), ax.set_yticks(np.arange(10))\n",
        "ax.set_xticklabels(list(class_names), rotation=45, ha=\"right\")\n",
        "ax.set_yticklabels(list(class_names))\n",
        "ax.set_ylabel('True')\n",
        "ax.set_xlabel('Predicted')\n",
        "for i in range(100):\n",
        "    ax.text(int(i/10),i%10,cm[i%10,int(i/10)], ha=\"center\", va=\"center\", color=\"w\")"
      ],
      "execution_count": 0,
      "outputs": []
    },
    {
      "cell_type": "code",
      "metadata": {
        "id": "Ssi6cKtdSvEv",
        "colab_type": "code",
        "colab": {}
      },
      "source": [
        ""
      ],
      "execution_count": 0,
      "outputs": []
    },
    {
      "cell_type": "code",
      "metadata": {
        "id": "hZZkQoiQS2Do",
        "colab_type": "code",
        "colab": {}
      },
      "source": [
        ""
      ],
      "execution_count": 0,
      "outputs": []
    },
    {
      "cell_type": "code",
      "metadata": {
        "id": "0tl-bBWs66BF",
        "colab_type": "code",
        "colab": {}
      },
      "source": [
        ""
      ],
      "execution_count": 0,
      "outputs": []
    },
    {
      "cell_type": "code",
      "metadata": {
        "id": "cAlqTbiRS3GG",
        "colab_type": "code",
        "colab": {}
      },
      "source": [
        ""
      ],
      "execution_count": 0,
      "outputs": []
    },
    {
      "cell_type": "markdown",
      "metadata": {
        "id": "HqEXUgyYuEVJ",
        "colab_type": "text"
      },
      "source": [
        "Bonus challenge: \n",
        "Can you improve the model performance from this first Keras model?\n",
        "If you wonder about how researchers get to 98% accuracy, here is a list of papers :)\n",
        "https://rodrigob.github.io/are_we_there_yet/build/classification_datasets_results.html#5356484e "
      ]
    }
  ]
}